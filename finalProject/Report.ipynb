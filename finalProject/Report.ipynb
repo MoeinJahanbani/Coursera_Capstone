{
 "cells": [
  {
   "cell_type": "markdown",
   "metadata": {},
   "source": [
    "\n",
    "<h1> Introduction </h1>\n",
    "    <p> \n",
    "    Starting a new business for each investor may seem hard at first. One reason behind this is the risk associated with the dicision the investor makes. A significant portion of this risk is usually raised because the investor thinks no matter what business he starts, he will be outcompeted by those who are already experienced in that business. This concern can be overcomed if the investor finds out that for a special business the demand is more than the supply. In this project we assume there is an investor in China who is willing to open a food store, if we can convince him that he wont be outcompeted by other businesses around. \n",
    "    </p>\n",
    "    <h2> Business questions: </h2>\n",
    "        <ol>\n",
    "            <li>\n",
    "            Which city is the best city to open a food store in? \n",
    "            </li>\n",
    "             <li>\n",
    "            Which type of food store is the most probable to be successful?\n",
    "            </li>\n",
    "        </ol>  "
   ]
  },
  {
   "cell_type": "markdown",
   "metadata": {},
   "source": [
    "<h1> Data </h1>\n",
    "    <p>In this project the following dataset were collected and used:</p>\n",
    "        <ol>\n",
    "    <p> </p>\n",
    "        <a href = \"https://github.com/MoeinJahanbani/Coursera_Capstone/blob/master/finalProject/listingAllProvinces%26IncludingCities.ipynb\">\n",
    "            <li>Coordinate data of Chinese cities and their districts/counties</li></a>\n",
    "    <a href = \"https://github.com/MoeinJahanbani/Coursera_Capstone/blob/master/finalProject/chinaCitiesAndPopulation.ipynb\">\n",
    "            <li>Population data of Chineese cities</li></a>\n",
    "    <a href = \"https://github.com/MoeinJahanbani/Coursera_Capstone/blob/master/finalProject/chinaCitiesGDP.ipynb\">\n",
    "            <li>GDP data of Chineese cities</li></a>\n",
    "             <a href=https://github.com/MoeinJahanbani/Coursera_Capstone/blob/master/finalProject/AddingVenuesToEachCity.ipynb>  \n",
    "               <li>Location data of food stores</li></a>\n",
    "        </ol>\n",
    "    </p>In the following a summerized information about each dataset is given.</p>\n",
    "    <h3>Coordinate data of Chinese cities and their districts/counties</h3>\n",
    "        <p>\n",
    "        First I obtained the list of Chinese provinces from <a href=\" https://en.wikipedia.org/wiki/Provinces_of_China\">here</a>\n",
    "       ; afterwards, I used the following website to obtain the name of cities and their districts in each\n",
    "        province:\n",
    "     </p>\n",
    "            https://www.travelchinaguide.com/essential/area_zip/{}.htm\n",
    "            <p>\n",
    "        where instead of {} the name of each province should be placed.\n",
    "        Then, I used Python, geocoder module to translate the addresses into coordinates.\n",
    "        </p>\n",
    "    <h3>Population data of Chineese cities</h3>\n",
    "        <p>\n",
    "        I used <a href=\" https://en.wikipedia.org/wiki/List_of_cities_in_China_by_population\"> this</a> wikipedia page to retrieve the population of major chinese cities.\n",
    "        </p>\n",
    "    <h3>GDP data of Chineese cities</h3>\n",
    "    <p>\n",
    "        The GDP per capita data of different Chineese provinces were obtained from <a href=\"https://theslittyeye.wordpress.com/2018/03/26/2017-top-50-chinese-cities-gdp-nominal-per-capita-raw-data-compiling/\">here</a>:\n",
    "    </p>\n",
    "    <h3>Location data of food stores</h3>\n",
    "        <p>\n",
    "        We used the explore endpoint of foursquare to retrieve different category of food stores that exist in \n",
    "        each city. Note that given the coordinate of each city/neighbourhood, and a specified radius, foursquare\n",
    "        doesn't return all of the venues, but a selection of them. Therefore, if one set the radius 500 m, and \n",
    "        foursquare returns venue A, if he changes the radius to 5000, it may return  venues B and C. Therefore, \n",
    "        for each city we used a series of radius and removed the overlaps so that we ensure we have retrieved as\n",
    "        many venues as possible.\n",
    "        </p>"
   ]
  },
  {
   "cell_type": "markdown",
   "metadata": {},
   "source": [
    "<h1> Methodology</h1>\n",
    "    <p>\n",
    "        In summery, this project follows two following hypotheses, first to find out which city is the best city \n",
    "        to open a food store in, and second to find out which category of food store will be the likliest to be\n",
    "         profitable.\n",
    "   </p>\n",
    "   <ol>\n",
    "        <li>The potential revenue of each restaurant in a city is directly proportional to the population of that city and \n",
    "            the income of its citizens (demand), and reversly proportional to the number of food stores present \n",
    "            in that city (supply).\n",
    "        </li>\n",
    "        "
   ]
  },
  {
   "cell_type": "code",
   "execution_count": 1,
   "metadata": {},
   "outputs": [
    {
     "name": "stderr",
     "output_type": "stream",
     "text": [
      "No handles with labels found to put in legend.\n"
     ]
    },
    {
     "data": {
      "image/png": "[encoded data removed]",
      "text/plain": [
       "<Figure size 432x288 with 1 Axes>"
      ]
     },
     "metadata": {
      "needs_background": "light"
     },
     "output_type": "display_data"
    }
   ],
   "source": [
    "import pandas as pd\n",
    "import seaborn as sns\n",
    "import matplotlib.pyplot as plt\n",
    "SuccessIndexData = pd.read_csv('SuccessIndexData.csv')\n",
    "%matplotlib inline\n",
    "ax = sns.regplot((SuccessIndexData['GDPpc(USD)']*SuccessIndexData['Population']).values,SuccessIndexData['nVenues'])\n",
    "plt.xlabel('GDP')\n",
    "plt.ylabel('Number of Venues')\n",
    "plt.ylim([0,1100])\n",
    "ax.legend()\n",
    "plt.show()"
   ]
  },
  {
   "cell_type": "markdown",
   "metadata": {},
   "source": [
    "<ol start=2>\n",
    "<p> As you see there is a linear relationship between GDP and number of venues in each city. Cities that are below the line have a lower number of venues relative to their GDP. The best city to open a new food store is the city that has the maximum deviation from this linear relationship and is below the line.\n",
    "</p>\n",
    "<li>\n",
    "            The likilihood that a specific type of food store be profitable in a specific city depends on how \n",
    "            popular it is for Chineese people (demand), and also how many food stores of that type is already \n",
    "            (supply) present. \n",
    "        </li>\n",
    "   </ol>\n",
    "   <p>\n",
    "    Based on the first hypothesis we define the following city success index which gives a score between 1 to 10 to each city, \n",
    "    where the city with the score 10 has the most probable and the city with \n",
    "    score 1 has the least probable demand for a new food store. \n",
    "   </p>\n",
    "   \n",
    "$$\n",
    "\\large\n",
    "S_{city} = 9 \\times{\\frac{PIPV - min(PIPV)}{max(PIPV) - min(PIPV)}} + 1\n",
    "$$\n",
    "  <p>\n",
    "        Where $S_{city}$ is the success score of a city and is obtained based on its Person Income Per Venue\n",
    "         (PIPV), relative to the cities with the highest and the lowest PIPVs. PIPV is calculated through the\n",
    "          following equation:\n",
    "    </p>\n",
    "    \n",
    "   <p>\n",
    "$$\n",
    "    \\large\n",
    "    PIPV = \\frac{{population}\\times{income}}{n}\n",
    "$$\n",
    "    </p>\n",
    "   <p>\n",
    "    where income is the GDP per capita for each city and n is the total number of different food stores that\n",
    "     exsist in a city.\n",
    "    </p>\n",
    "    <p>\n",
    "    Knowing which city has the most demand for a new food store, we can define the <i> type </i> success index based on the second hypothesis to determine which category of food store most probably has the highes demand and therefore makes the most profit. \n",
    "    </p>\n",
    "        $$S_{type} = \\frac{popularity - supply}{popularity}$$\n",
    "        \n",
    "        \n",
    "   <p>\n",
    "                This index has two parameters. Popularity represents the portion of Chineese for whom <i> type </i> is the favorite type of food store.\n",
    "                 As it was said before, the number of venues of the same type in \n",
    "                other cities relative to the total number of their venues is considered to represent how popular \n",
    "                is a specific type of food store. Lets say we want to caluclate the $S_{type}$ in city j\n",
    "    \n",
    "   </p>\n",
    "\n",
    "   \n",
    "$$\\large popularity = \\frac{\\sum_{i=cities,\\, excluding\\,j}^{}{x_{i}}}{\\sum_{i=cities,\\, excluding\\,j}^{}{X_{i}}}$$          \n",
    "   <p>\n",
    "    \n",
    "   where $x_{i}$ is the number of food stores of <i>type</i> category and $X_{i}$ is the total number of food stores in the city i.\n",
    "    </p>\n",
    "   <p>\n",
    "   The second parameter shows how much is the supply of that type of food store in the city J and its defined as:\n",
    "       </p>\n",
    "    <p>\n",
    "$\\large supply = \\frac{x_{j}}{X_{j}}$\n",
    "</p>\n",
    "    <p>\n",
    "        If the index is negative, it shows that the supply is more than \n",
    "           demand and the opposit holds true if the index is posetive. Therefore, the food store kind with \n",
    "                the highest index is probable to be the the best choice for the investment. Note to the similarity of the supply and the popularity terms. Indeed, for a type, we have assumed that the average supply in other cities is equal to the popularity.\n",
    "    </p>\n",
    "\n",
    "   \n",
    " \n",
    "   "
   ]
  },
  {
   "cell_type": "markdown",
   "metadata": {},
   "source": [
    "<h2> Assumptions made to answer the business questions: </h2> \n",
    "            <ul> \n",
    "                <li>The food stores data available is representative of food stores in china</li>\n",
    "                     <p>\n",
    "                        Not all of the food stores in China exsist in the dataset we use. However, we assume the same\n",
    "                        pertion of different categories has been reported (i.e. the same portion of each category is \n",
    "                         missing in our data set. Therefore, even though the data set is not complete, it is \n",
    "                         representative.\n",
    "                     </p>\n",
    "                <li>The size of food stores are simillar</li>\n",
    "                    <p>\n",
    "                        Maybe one fast food store in one city is bigger than another fast food store in another city.\n",
    "                        However, one average, we assume that all of the food stores in the dataset have the same size \n",
    "                        and can handle the same number of customers.\n",
    "                    </p>\n",
    "                <li>People in different regions have a similar average preference</li>\n",
    "                    <p>\n",
    "                      We ignore the fact that people in different regions of China may like different cousines. Forexample, people in the south of China may like more chili food while the northerners may like the opposite.\n",
    "                    </p>\n",
    "         <li>Average supply is equal to popularity</li>\n",
    "    <p>Average supply for a type of food store has been formed based on the demand or preference of people, so the average supply can represent popularity of that type</p>"
   ]
  },
  {
   "cell_type": "markdown",
   "metadata": {},
   "source": [
    "   <p> <font color=\"red\"> The python code to analyze the data based on the described methodology is available in <a href= \"https://github.com/MoeinJahanbani/Coursera_Capstone/blob/master/finalProject/analyzingVenues.ipynb\"> this </a>GitHub repasitory </p>\n",
    "  "
   ]
  },
  {
   "cell_type": "markdown",
   "metadata": {},
   "source": [
    "<h1>Results and Discussions</h1>"
   ]
  },
  {
   "cell_type": "markdown",
   "metadata": {},
   "source": [
    "<p>Based on the results Shenyang showed to has the highest demand for a new food store. Considering the popularity of different food stores in other provinces and the relative frequency of food stores in Shenyang, Asian restaurant was determined to be the best choice to invest in.</p>\n",
    "<p>\n",
    "Even though opening an Asian restaurant in Shenyang showed to be the best choice, other cities and/or category of food stores showed a close success probability. In the following map you can see the success score of each city and its recommended food store category. \n",
    "</p>"
   ]
  },
  {
   "cell_type": "code",
   "execution_count": 2,
   "metadata": {},
   "outputs": [
    {
     "data": {
      "text/html": [
       "<div style=\"width:100%;\"><div style=\"position:relative;width:100%;height:0;padding-bottom:60%;\"><iframe src=\"data:text/html;charset=utf-8;base64,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\" style=\"position:absolute;width:100%;height:100%;left:0;top:0;border:none !important;\" allowfullscreen webkitallowfullscreen mozallowfullscreen></iframe></div></div>"
      ],
      "text/plain": [
       "<folium.folium.Map at 0x7f2f0f364e10>"
      ]
     },
     "execution_count": 2,
     "metadata": {},
     "output_type": "execute_result"
    }
   ],
   "source": [
    "import folium\n",
    "import numpy as np\n",
    "from pandas.io.json import json_normalize\n",
    "from matplotlib import cm\n",
    "from matplotlib import colors\n",
    "location = [35.86,104.19] #Coordinates of China\n",
    "map_cities = folium.Map(zoom_start=4,location=location)\n",
    "SuccessIndexData = pd.read_csv('SuccessIndexData.csv')\n",
    "x = np.arange(SuccessIndexData.shape[0])\n",
    "colors_array = cm.rainbow(np.linspace(0,1,len(x)))\n",
    "rainbow = [colors.rgb2hex(i) for i in colors_array]\n",
    "marker_colors = []\n",
    "for i in SuccessIndexData.iterrows():\n",
    "    \n",
    "        \n",
    "        \n",
    "    popup = (\"City name: {name}<br>\"\n",
    "    \"City success score: {score}<br>\"\n",
    "        \"Best food store choice: {best}<br>\").format(name=i[1]['City'],score=str(i[1]['Success']),best=i[1]['Best Venue'])\n",
    "    label = folium.Popup(popup)\n",
    "    folium.CircleMarker([i[1]['Latitude'],i[1]['Longitude']],\n",
    "                        radius = 5,\n",
    "                        popup = label,\n",
    "                        color = rainbow[i[0]],\n",
    "                        fill = True,\n",
    "                        fill_color = rainbow[i[0]],\n",
    "                        fill_opacity = 0.7,\n",
    "                       ).add_to(map_cities)\n",
    "map_cities\n"
   ]
  },
  {
   "cell_type": "markdown",
   "metadata": {},
   "source": []
  },
  {
   "cell_type": "markdown",
   "metadata": {},
   "source": [
    "<h1> Conclusion </h1>\n",
    "<p>\n",
    "This report shows that location data is a good tool in order to identify the best opportunities when it comes to opening a new business, or at least to reduce the uncertainties when there is a lack of data. The methodology introduced in this work can be extended to any other country and for any other category of business. It is trivial that when there is an appropriate data, it can be substituted by assumptions made in this work.\n",
    "</p>"
   ]
  },
  {
   "cell_type": "code",
   "execution_count": null,
   "metadata": {},
   "outputs": [],
   "source": []
  }
 ],
 "metadata": {
  "kernelspec": {
   "display_name": "Python 3",
   "language": "python",
   "name": "python3"
  },
  "language_info": {
   "codemirror_mode": {
    "name": "ipython",
    "version": 3
   },
   "file_extension": ".py",
   "mimetype": "text/x-python",
   "name": "python",
   "nbconvert_exporter": "python",
   "pygments_lexer": "ipython3",
   "version": "3.7.1"
  }
 },
 "nbformat": 4,
 "nbformat_minor": 2
}
